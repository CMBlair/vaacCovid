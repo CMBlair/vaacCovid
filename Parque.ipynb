{
 "cells": [
  {
   "cell_type": "code",
   "execution_count": null,
   "id": "caa56401",
   "metadata": {},
   "outputs": [],
   "source": [
    "println(\"Connect Spark first\")"
   ]
  },
  {
   "cell_type": "markdown",
   "id": "ebe9d4a9",
   "metadata": {},
   "source": [
    "# Make Dataframes from CSV files"
   ]
  },
  {
   "cell_type": "code",
   "execution_count": null,
   "id": "d5219117",
   "metadata": {
    "scrolled": true
   },
   "outputs": [],
   "source": [
    "var US_Cases = spark.read.csv(\"hdfs://localhost:9000/user/hive/warehouse/time_series_covid_19_confirmed_US.csv\")\n",
    "var US_Deaths = spark.read.csv(\"hdfs://localhost:9000/user/hive/warehouse/time_series_covid_19_deaths_US.csv\")\n",
    "\n",
    "US_Deaths.createOrReplaceTempView(\"US_Deaths\")\n",
    "US_Cases.createOrReplaceTempView(\"US_Cases\")\n"
   ]
  },
  {
   "cell_type": "markdown",
   "id": "acad09a0",
   "metadata": {},
   "source": [
    "# Top 5 Urban areas with highest COVID deaths"
   ]
  },
  {
   "cell_type": "code",
   "execution_count": null,
   "id": "610159b4",
   "metadata": {},
   "outputs": [],
   "source": [
    "spark.sql(\"Select cast(_c478 as integer), _c10 deaths, _c11 population from US_Deaths order by 1 desc limit 5;\").show"
   ]
  },
  {
   "cell_type": "markdown",
   "id": "1a03290d",
   "metadata": {},
   "source": [
    "# Top 5 non Urban areas highest COVID deaths"
   ]
  },
  {
   "cell_type": "code",
   "execution_count": null,
   "id": "23e5c46b",
   "metadata": {},
   "outputs": [],
   "source": [
    "spark.sql(\"Select cast(_c478 as integer) deaths, _c10 city, _c11 population from US_Deaths where _c11 < 50000 and _c11 > 50 order by 1 desc limit 5;\").show"
   ]
  },
  {
   "cell_type": "markdown",
   "id": "7d14cdf3",
   "metadata": {},
   "source": [
    "# Top 5 non urban areas with Highest Percentage of COVID deaths"
   ]
  },
  {
   "cell_type": "code",
   "execution_count": null,
   "id": "47e4ef34",
   "metadata": {},
   "outputs": [],
   "source": [
    "spark.sql(\"select _c10 city, concat(round((  (cast(_c478 as integer) / _c11) *100       ),2),'%') as DeathPercent from US_deaths where _c11 < 50000 and _c11 >50 order by 2 desc limit 5;\").show"
   ]
  },
  {
   "cell_type": "markdown",
   "id": "98139369",
   "metadata": {},
   "source": [
    "# Top 5 urban areas with Highest Percentage of COVID deaths"
   ]
  },
  {
   "cell_type": "code",
   "execution_count": null,
   "id": "f4d207b7",
   "metadata": {},
   "outputs": [],
   "source": [
    "spark.sql(\"select _c10 city, concat(round(((cast(_c478 as integer) / _c11) *100 ),2),'%') as DeathPercent  from US_deaths where _c11 > 50000 order by 2 desc limit 5;\").show"
   ]
  },
  {
   "cell_type": "markdown",
   "id": "e380e1c8",
   "metadata": {},
   "source": [
    "# Average COVID deaths in Urban area"
   ]
  },
  {
   "cell_type": "code",
   "execution_count": null,
   "id": "c3ddb210",
   "metadata": {},
   "outputs": [],
   "source": [
    "spark.sql(\"select round(avg(_c11),0) as avg_population, round( avg( cast(_c478 as integer)   ),0  ) avg_deaths,  concat(round((round( avg( cast(_c478 as integer)   ),0  )/round(avg(_c11),0) ) *100,2),'%')  pop_over_death_times_100                                  from US_Deaths where _c11 > 50000\").show"
   ]
  },
  {
   "cell_type": "code",
   "execution_count": null,
   "id": "1abb3499",
   "metadata": {},
   "outputs": [],
   "source": [
    "spark.sql(\"select _c10 city, cast(_c478 as integer) deaths from US_Deaths order by RAND() limit 5;\")"
   ]
  },
  {
   "cell_type": "code",
   "execution_count": null,
   "id": "22ef83d1",
   "metadata": {},
   "outputs": [],
   "source": []
  },
  {
   "cell_type": "markdown",
   "id": "cba878e5",
   "metadata": {},
   "source": [
    "# Clean the Data"
   ]
  },
  {
   "cell_type": "code",
   "execution_count": null,
   "id": "4567478c",
   "metadata": {},
   "outputs": [],
   "source": [
    "var US_Cases = spark.read.option(\"header\",\"true\").csv(\"hdfs://localhost:9000/user/hive/warehouse/time_series_covid_19_confirmed_US.csv\")\n",
    "val CC = US_Cases.select(\"Admin2\",\"Combined_Key\",\"Province_State\",\"5/2/21\")\n",
    "CC.show()"
   ]
  },
  {
   "cell_type": "code",
   "execution_count": null,
   "id": "11cbf242",
   "metadata": {},
   "outputs": [],
   "source": [
    "var US_Deaths = spark.read.option(\"header\",\"true\").csv(\"hdfs://localhost:9000/user/hive/warehouse/time_series_covid_19_deaths_US.csv\")\n",
    "val CD = US_Deaths.select(\"Admin2\",\"Combined_Key\",\"Population\",\"Province_State\",\"5/2/21\")\n",
    "CD.show()"
   ]
  },
  {
   "cell_type": "markdown",
   "id": "3941822a",
   "metadata": {},
   "source": [
    "# Put clean data in Parquet files"
   ]
  },
  {
   "cell_type": "code",
   "execution_count": null,
   "id": "77202fe1",
   "metadata": {},
   "outputs": [],
   "source": [
    "CC.write.parquet(\"hdfs://localhost:9000/user/hive/warehouse/Cases.parquet\")\n",
    "CD.write.parquet(\"hdfs://localhost:9000/user/hive/warehouse/Deaths.parquet\")\n"
   ]
  },
  {
   "cell_type": "code",
   "execution_count": null,
   "id": "505a6e95",
   "metadata": {},
   "outputs": [],
   "source": []
  },
  {
   "cell_type": "code",
   "execution_count": null,
   "id": "2b1614bf",
   "metadata": {},
   "outputs": [],
   "source": []
  },
  {
   "cell_type": "code",
   "execution_count": null,
   "id": "8e5449d1",
   "metadata": {},
   "outputs": [],
   "source": []
  },
  {
   "cell_type": "code",
   "execution_count": null,
   "id": "f3c55311",
   "metadata": {},
   "outputs": [],
   "source": []
  },
  {
   "cell_type": "code",
   "execution_count": null,
   "id": "3cbadf98",
   "metadata": {},
   "outputs": [],
   "source": []
  },
  {
   "cell_type": "code",
   "execution_count": null,
   "id": "5da5d823",
   "metadata": {},
   "outputs": [],
   "source": []
  },
  {
   "cell_type": "code",
   "execution_count": null,
   "id": "8d15c3be",
   "metadata": {},
   "outputs": [],
   "source": []
  },
  {
   "cell_type": "code",
   "execution_count": null,
   "id": "e475931f",
   "metadata": {},
   "outputs": [],
   "source": []
  },
  {
   "cell_type": "code",
   "execution_count": null,
   "id": "5a6226aa",
   "metadata": {},
   "outputs": [],
   "source": []
  },
  {
   "cell_type": "code",
   "execution_count": null,
   "id": "46cc7d71",
   "metadata": {},
   "outputs": [],
   "source": []
  },
  {
   "cell_type": "code",
   "execution_count": null,
   "id": "544a6b57",
   "metadata": {},
   "outputs": [],
   "source": []
  },
  {
   "cell_type": "code",
   "execution_count": null,
   "id": "5e30a2e2",
   "metadata": {},
   "outputs": [],
   "source": []
  }
 ],
 "metadata": {
  "kernelspec": {
   "display_name": "spylon-kernel",
   "language": "scala",
   "name": "spylon-kernel"
  },
  "language_info": {
   "codemirror_mode": "text/x-scala",
   "file_extension": ".scala",
   "help_links": [
    {
     "text": "MetaKernel Magics",
     "url": "https://metakernel.readthedocs.io/en/latest/source/README.html"
    }
   ],
   "mimetype": "text/x-scala",
   "name": "scala",
   "pygments_lexer": "scala",
   "version": "0.4.1"
  }
 },
 "nbformat": 4,
 "nbformat_minor": 5
}
