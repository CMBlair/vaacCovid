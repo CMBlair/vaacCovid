{
 "cells": [
  {
   "cell_type": "code",
   "execution_count": 1,
   "id": "caa56401",
   "metadata": {},
   "outputs": [
    {
     "data": {
      "text/plain": [
       "Intitializing Scala interpreter ..."
      ]
     },
     "metadata": {},
     "output_type": "display_data"
    },
    {
     "data": {
      "text/plain": [
       "Spark Web UI available at http://localhost:4040\n",
       "SparkContext available as 'sc' (version = 3.3.0, master = local[*], app id = local-1657739861301)\n",
       "SparkSession available as 'spark'\n"
      ]
     },
     "metadata": {},
     "output_type": "display_data"
    },
    {
     "name": "stdout",
     "output_type": "stream",
     "text": [
      "Connect Spark first\n"
     ]
    }
   ],
   "source": [
    "println(\"Connect Spark first\")"
   ]
  },
  {
   "cell_type": "markdown",
   "id": "ebe9d4a9",
   "metadata": {},
   "source": [
    "# Make Dataframes from CSV files"
   ]
  },
  {
   "cell_type": "code",
   "execution_count": 90,
   "id": "d5219117",
   "metadata": {},
   "outputs": [
    {
     "data": {
      "text/plain": [
       "US_Deaths: org.apache.spark.sql.DataFrame = [_c0: string, _c1: string ... 477 more fields]\n",
       "US_Cases: org.apache.spark.sql.DataFrame = [_c0: string, _c1: string ... 476 more fields]\n"
      ]
     },
     "execution_count": 90,
     "metadata": {},
     "output_type": "execute_result"
    }
   ],
   "source": [
    "var US_Deaths = spark.read.csv(\"hdfs://localhost:9000/user/hive/warehouse/time_series_covid_19_deaths_US.csv\")\n",
    "var US_Cases = spark.read.csv(\"hdfs://localhost:9000/user/hive/warehouse/time_series_covid_19_confirmed_US.csv\")\n",
    "\n",
    "US_Deaths.createOrReplaceTempView(\"US_Deaths\")\n",
    "US_Cases.createOrReplaceTempView(\"US_Cases\")\n"
   ]
  },
  {
   "cell_type": "markdown",
   "id": "acad09a0",
   "metadata": {},
   "source": [
    "# Top 5 Urban areas with highest COVID deaths"
   ]
  },
  {
   "cell_type": "code",
   "execution_count": 48,
   "id": "610159b4",
   "metadata": {},
   "outputs": [
    {
     "name": "stdout",
     "output_type": "stream",
     "text": [
      "+-----+--------------------+----------+\n",
      "|_c478|              deaths|population|\n",
      "+-----+--------------------+----------+\n",
      "|23946|Los Angeles, Cali...|  10039107|\n",
      "|10171| Kings, New York, US|   2559903|\n",
      "| 9970|  Cook, Illinois, US|   5150233|\n",
      "| 9882|Maricopa, Arizona...|   4485414|\n",
      "| 9740|Queens, New York, US|   2253858|\n",
      "+-----+--------------------+----------+\n",
      "\n"
     ]
    }
   ],
   "source": [
    "spark.sql(\"Select cast(_c478 as integer), _c10 deaths, _c11 population from US_Deaths order by 1 desc limit 5;\").show"
   ]
  },
  {
   "cell_type": "markdown",
   "id": "1a03290d",
   "metadata": {},
   "source": [
    "# Top 5 non Urban areas highest COVID deaths"
   ]
  },
  {
   "cell_type": "code",
   "execution_count": 50,
   "id": "23e5c46b",
   "metadata": {},
   "outputs": [
    {
     "name": "stdout",
     "output_type": "stream",
     "text": [
      "+------+--------------------+----------+\n",
      "|deaths|                city|population|\n",
      "+------+--------------------+----------+\n",
      "|   220|Val Verde, Texas, US|     49025|\n",
      "|   177|   Ware, Georgia, US|     35734|\n",
      "|   176|Santa Cruz, Arizo...|     46498|\n",
      "|   176|Neshoba, Mississi...|     29118|\n",
      "|   176|Mifflin, Pennsylv...|     46138|\n",
      "+------+--------------------+----------+\n",
      "\n"
     ]
    }
   ],
   "source": [
    "spark.sql(\"Select cast(_c478 as integer) deaths, _c10 city, _c11 population from US_Deaths where _c11 < 50000 and _c11 > 50 order by 1 desc limit 5;\").show"
   ]
  },
  {
   "cell_type": "markdown",
   "id": "7d14cdf3",
   "metadata": {},
   "source": [
    "# Top 5 non urban areas with Highest Percentage of COVID deaths"
   ]
  },
  {
   "cell_type": "code",
   "execution_count": 62,
   "id": "47e4ef34",
   "metadata": {},
   "outputs": [
    {
     "name": "stdout",
     "output_type": "stream",
     "text": [
      "+--------------------+------------+\n",
      "|                city|DeathPercent|\n",
      "+--------------------+------------+\n",
      "|    Foard, Texas, US|       0.87%|\n",
      "| Galax, Virginia, US|        0.8%|\n",
      "|Emporia, Virginia...|       0.79%|\n",
      "|Jerauld, South Da...|       0.79%|\n",
      "|Hancock, Georgia, US|       0.77%|\n",
      "+--------------------+------------+\n",
      "\n"
     ]
    }
   ],
   "source": [
    "spark.sql(\"select _c10 city, concat(round((  (cast(_c478 as integer) / _c11) *100       ),2),'%') as DeathPercent from US_deaths where _c11 < 50000 and _c11 >50 order by 2 desc limit 5;\").show"
   ]
  },
  {
   "cell_type": "markdown",
   "id": "98139369",
   "metadata": {},
   "source": [
    "# Top 5 non urban areas with Highest Percentage of COVID deaths"
   ]
  },
  {
   "cell_type": "code",
   "execution_count": 60,
   "id": "f4d207b7",
   "metadata": {},
   "outputs": [
    {
     "name": "stdout",
     "output_type": "stream",
     "text": [
      "+--------------------+------------+\n",
      "|                city|DeathPercent|\n",
      "+--------------------+------------+\n",
      "|McKinley, New Mex...|       0.65%|\n",
      "| Maverick, Texas, US|        0.6%|\n",
      "| Apache, Arizona, US|        0.6%|\n",
      "| Navajo, Arizona, US|       0.48%|\n",
      "| Bronx, New York, US|       0.46%|\n",
      "+--------------------+------------+\n",
      "\n"
     ]
    }
   ],
   "source": [
    "spark.sql(\"select _c10 city, concat(round(((cast(_c478 as integer) / _c11) *100 ),2),'%') as DeathPercent  from US_deaths where _c11 > 50000 order by 2 desc limit 5;\").show"
   ]
  },
  {
   "cell_type": "markdown",
   "id": "e380e1c8",
   "metadata": {},
   "source": [
    "# Average COVID deaths in Urban area"
   ]
  },
  {
   "cell_type": "code",
   "execution_count": 89,
   "id": "c3ddb210",
   "metadata": {},
   "outputs": [
    {
     "name": "stdout",
     "output_type": "stream",
     "text": [
      "+--------------+----------+------------------------+\n",
      "|avg_population|avg_deaths|pop_over_death_times_100|\n",
      "+--------------+----------+------------------------+\n",
      "|      288052.0|     485.0|                    0.17|\n",
      "+--------------+----------+------------------------+\n",
      "\n"
     ]
    }
   ],
   "source": [
    "spark.sql(\"select round(avg(_c11),0) as avg_population, round( avg( cast(_c478 as integer)   ),0  ) avg_deaths,  round((round( avg( cast(_c478 as integer)   ),0  )/round(avg(_c11),0) ) *100,2)  pop_over_death_times_100                                  from US_Deaths where _c11 > 50000\").show"
   ]
  },
  {
   "cell_type": "code",
   "execution_count": null,
   "id": "b26b6830",
   "metadata": {},
   "outputs": [],
   "source": [
    "# "
   ]
  },
  {
   "cell_type": "code",
   "execution_count": null,
   "id": "c8d929be",
   "metadata": {},
   "outputs": [],
   "source": [
    "spark.sql(\"Select cast(_c478 as integer), _c10 deaths, _c11 population from US_Deaths order by 1 desc limit 5;\").show"
   ]
  },
  {
   "cell_type": "code",
   "execution_count": null,
   "id": "f911f70f",
   "metadata": {},
   "outputs": [],
   "source": []
  },
  {
   "cell_type": "code",
   "execution_count": null,
   "id": "6f284f5d",
   "metadata": {},
   "outputs": [],
   "source": []
  },
  {
   "cell_type": "code",
   "execution_count": null,
   "id": "1abb3499",
   "metadata": {},
   "outputs": [],
   "source": []
  },
  {
   "cell_type": "code",
   "execution_count": null,
   "id": "22ef83d1",
   "metadata": {},
   "outputs": [],
   "source": []
  },
  {
   "cell_type": "code",
   "execution_count": null,
   "id": "272bdfea",
   "metadata": {},
   "outputs": [],
   "source": []
  },
  {
   "cell_type": "code",
   "execution_count": null,
   "id": "a1319d9f",
   "metadata": {},
   "outputs": [],
   "source": []
  },
  {
   "cell_type": "code",
   "execution_count": null,
   "id": "03fd4b13",
   "metadata": {},
   "outputs": [],
   "source": []
  },
  {
   "cell_type": "code",
   "execution_count": null,
   "id": "fde4d6bd",
   "metadata": {},
   "outputs": [],
   "source": []
  },
  {
   "cell_type": "code",
   "execution_count": null,
   "id": "76957f17",
   "metadata": {},
   "outputs": [],
   "source": []
  },
  {
   "cell_type": "code",
   "execution_count": null,
   "id": "a76edb58",
   "metadata": {},
   "outputs": [],
   "source": []
  },
  {
   "cell_type": "code",
   "execution_count": null,
   "id": "505a6e95",
   "metadata": {},
   "outputs": [],
   "source": []
  }
 ],
 "metadata": {
  "kernelspec": {
   "display_name": "spylon-kernel",
   "language": "scala",
   "name": "spylon-kernel"
  },
  "language_info": {
   "codemirror_mode": "text/x-scala",
   "file_extension": ".scala",
   "help_links": [
    {
     "text": "MetaKernel Magics",
     "url": "https://metakernel.readthedocs.io/en/latest/source/README.html"
    }
   ],
   "mimetype": "text/x-scala",
   "name": "scala",
   "pygments_lexer": "scala",
   "version": "0.4.1"
  }
 },
 "nbformat": 4,
 "nbformat_minor": 5
}
